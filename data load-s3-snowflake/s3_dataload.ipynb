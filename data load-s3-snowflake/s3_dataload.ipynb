{
 "cells": [
  {
   "cell_type": "code",
   "execution_count": 1,
   "metadata": {},
   "outputs": [
    {
     "name": "stdout",
     "output_type": "stream",
     "text": [
      "Collecting boto3\n",
      "  Downloading boto3-1.35.47-py3-none-any.whl.metadata (6.7 kB)\n",
      "Collecting botocore<1.36.0,>=1.35.47 (from boto3)\n",
      "  Downloading botocore-1.35.47-py3-none-any.whl.metadata (5.7 kB)\n",
      "Collecting jmespath<2.0.0,>=0.7.1 (from boto3)\n",
      "  Downloading jmespath-1.0.1-py3-none-any.whl.metadata (7.6 kB)\n",
      "Collecting s3transfer<0.11.0,>=0.10.0 (from boto3)\n",
      "  Downloading s3transfer-0.10.3-py3-none-any.whl.metadata (1.7 kB)\n",
      "Requirement already satisfied: python-dateutil<3.0.0,>=2.1 in /Users/muku-mac/Documents/dbt_project/venv/lib/python3.13/site-packages (from botocore<1.36.0,>=1.35.47->boto3) (2.9.0.post0)\n",
      "Requirement already satisfied: urllib3!=2.2.0,<3,>=1.25.4 in /Users/muku-mac/Documents/dbt_project/venv/lib/python3.13/site-packages (from botocore<1.36.0,>=1.35.47->boto3) (2.2.3)\n",
      "Requirement already satisfied: six>=1.5 in /Users/muku-mac/Documents/dbt_project/venv/lib/python3.13/site-packages (from python-dateutil<3.0.0,>=2.1->botocore<1.36.0,>=1.35.47->boto3) (1.16.0)\n",
      "Downloading boto3-1.35.47-py3-none-any.whl (139 kB)\n",
      "Downloading botocore-1.35.47-py3-none-any.whl (12.6 MB)\n",
      "\u001b[2K   \u001b[90m━━━━━━━━━━━━━━━━━━━━━━━━━━━━━━━━━━━━━━━━\u001b[0m \u001b[32m12.6/12.6 MB\u001b[0m \u001b[31m3.9 MB/s\u001b[0m eta \u001b[36m0:00:00\u001b[0ma \u001b[36m0:00:01\u001b[0m\n",
      "\u001b[?25hDownloading jmespath-1.0.1-py3-none-any.whl (20 kB)\n",
      "Downloading s3transfer-0.10.3-py3-none-any.whl (82 kB)\n",
      "Installing collected packages: jmespath, botocore, s3transfer, boto3\n",
      "Successfully installed boto3-1.35.47 botocore-1.35.47 jmespath-1.0.1 s3transfer-0.10.3\n"
     ]
    }
   ],
   "source": [
    "%pip install boto3"
   ]
  },
  {
   "cell_type": "code",
   "execution_count": 2,
   "metadata": {},
   "outputs": [],
   "source": [
    "import boto3\n",
    "from botocore.exceptions import NoCredentialsError, PartialCredentialsError"
   ]
  },
  {
   "cell_type": "code",
   "execution_count": 7,
   "metadata": {},
   "outputs": [
    {
     "name": "stdout",
     "output_type": "stream",
     "text": [
      "File '/Users/muku-mac/Documents/snowflake-s3-dbt_proj/listings.csv' uploaded to S3 bucket 's3-snowflake-airbnb-elt' as 'raw/listings/listings.csv'\n",
      "File '/Users/muku-mac/Documents/snowflake-s3-dbt_proj/reviews.csv' uploaded to S3 bucket 's3-snowflake-airbnb-elt' as 'raw/REVIEWS_FOLDER/reviews.csv'\n"
     ]
    }
   ],
   "source": [
    "def upload_file_to_s3(local_file_path, bucket_name, s3_file_path):\n",
    "    \n",
    "    s3_client = boto3.client('s3')\n",
    "\n",
    "    try:\n",
    "        # Upload the file\n",
    "        s3_client.upload_file(local_file_path, bucket_name, s3_file_path)\n",
    "        print(f\"File '{local_file_path}' uploaded to S3 bucket '{bucket_name}' as '{s3_file_path}'\")\n",
    "    \n",
    "    except FileNotFoundError:\n",
    "        print(f\"File '{local_file_path}' not found.\")\n",
    "    \n",
    "    except NoCredentialsError:\n",
    "        print(\"Credentials not available. Please configure AWS CLI or set the AWS_ACCESS_KEY_ID and AWS_SECRET_ACCESS_KEY environment variables.\")\n",
    "    \n",
    "    except PartialCredentialsError:\n",
    "        print(\"Incomplete credentials. Please ensure both AWS_ACCESS_KEY_ID and AWS_SECRET_ACCESS_KEY are set.\")\n",
    "    \n",
    "    except Exception as e:\n",
    "        print(f\"Error uploading file: {e}\")\n",
    "\n",
    "if __name__ == '__main__':\n",
    "    local_file_path1 = '/Users/muku-mac/Documents/snowflake-s3-dbt_proj/listings.csv'\n",
    "    \n",
    "    #S3 bucket name\n",
    "    bucket_name = 's3-snowflake-airbnb-elt'\n",
    "    \n",
    "    # Path in the S3 bucket\n",
    "    s3_file_path1 = 'raw/listings/listings.csv'\n",
    "\n",
    "    upload_file_to_s3(local_file_path1, bucket_name, s3_file_path1)\n",
    "\n",
    "    local_file_path2 = '/Users/muku-mac/Documents/snowflake-s3-dbt_proj/reviews.csv'\n",
    "    s3_file_path2 = 'raw/REVIEWS_FOLDER/reviews.csv'\n",
    "\n",
    "    upload_file_to_s3(local_file_path2, bucket_name, s3_file_path2)\n"
   ]
  },
  {
   "cell_type": "code",
   "execution_count": null,
   "metadata": {},
   "outputs": [],
   "source": []
  }
 ],
 "metadata": {
  "kernelspec": {
   "display_name": "venv",
   "language": "python",
   "name": "python3"
  },
  "language_info": {
   "codemirror_mode": {
    "name": "ipython",
    "version": 3
   },
   "file_extension": ".py",
   "mimetype": "text/x-python",
   "name": "python",
   "nbconvert_exporter": "python",
   "pygments_lexer": "ipython3",
   "version": "3.13.0"
  }
 },
 "nbformat": 4,
 "nbformat_minor": 2
}
